{
 "cells": [
  {
   "cell_type": "markdown",
   "id": "6d1b1384-5a0f-458c-b78c-7dd077724cb6",
   "metadata": {},
   "source": [
    "IMPORT REQUIRED LIBRARIES"
   ]
  },
  {
   "cell_type": "code",
   "execution_count": null,
   "id": "a9b05391-d2d2-42f7-9589-7b454629af2f",
   "metadata": {},
   "outputs": [],
   "source": [
    "import shap\n",
    "from sklearn.ensemble import RandomForestClassifier\n",
    "from explainerdashboard import ClassifierExplainer, ExplainerDashboard\n",
    "from pycaret.classification import *\n",
    "import optuna\n",
    "import Reqs\n",
    "import numpy as np\n",
    "from sklearn.metrics import accuracy_score\n",
    "import databricks.sql\n",
    "from sqlalchemy import create_engine\n",
    "import pandas as pd\n",
    "import ipywidgets as widgets\n",
    "from IPython.display import display\n",
    "import ML_Model_Preprocessing_Loading as MMPL\n",
    "import Model_Creation_Tools as MCL\n",
    "import Model_Explanation_Tools as MET\n",
    "import matplotlib.pyplot as plt\n",
    "pd.set_option('display.max_columns',1000)\n",
    "pd.set_option('display.max_rows',1000)"
   ]
  },
  {
   "cell_type": "markdown",
   "id": "dadf4a40-c973-47b6-93d8-cd73fb8d637d",
   "metadata": {},
   "source": [
    "Fetch Training Data:"
   ]
  },
  {
   "cell_type": "code",
   "execution_count": null,
   "id": "2eeced67-4099-4070-89d2-50dd1b1fdc43",
   "metadata": {},
   "outputs": [],
   "source": [
    "data = MMPL.DRP_Agena_Ingestion_Model_Fetch_Data(segment='train')"
   ]
  },
  {
   "cell_type": "markdown",
   "id": "39842ea7-ea96-4c36-90b2-4d0261b77ded",
   "metadata": {},
   "source": [
    "Apply Preprocessing Pipeline"
   ]
  },
  {
   "cell_type": "code",
   "execution_count": null,
   "id": "861ebc78-6651-47f7-ae7d-3d61fa25edf9",
   "metadata": {},
   "outputs": [],
   "source": [
    "testing = data"
   ]
  },
  {
   "cell_type": "code",
   "execution_count": null,
   "id": "f4b188bf-49e6-4cd9-9bb1-3a4f9922f127",
   "metadata": {},
   "outputs": [],
   "source": [
    "test = testing.groupby('Model_y')['AnyPaymentReceived'].agg(['mean', 'count'])"
   ]
  },
  {
   "cell_type": "code",
   "execution_count": null,
   "id": "cf4d6365-b204-48e3-8b30-27a283ae72a5",
   "metadata": {},
   "outputs": [],
   "source": [
    "pd.set_option('display.max_rows',1000)"
   ]
  },
  {
   "cell_type": "code",
   "execution_count": null,
   "id": "63c956ff-29e3-4d31-9f8a-c0c9a795c451",
   "metadata": {},
   "outputs": [],
   "source": [
    "test[test['count']>2].sort_values('mean',ascending=False).head(500)"
   ]
  },
  {
   "cell_type": "code",
   "execution_count": null,
   "id": "6b54a595-3a47-42a8-b0ef-69cd034c90f8",
   "metadata": {},
   "outputs": [],
   "source": [
    "data, features, target  = MMPL.DRP_Agena_Ingestion_Model_Preprocess(data)"
   ]
  },
  {
   "cell_type": "markdown",
   "id": "7685dbf1-8301-447c-b542-738e81a489af",
   "metadata": {},
   "source": [
    "Setup ML Model Environment"
   ]
  },
  {
   "cell_type": "code",
   "execution_count": null,
   "id": "c0986452-93f2-4e2f-90d4-ba556a1034d2",
   "metadata": {},
   "outputs": [],
   "source": [
    "    car_ranking_dim = pd.read_csv('Car_ranking_dim.csv')\n",
    "    data = pd.merge(data, car_ranking_dim, left_on='Make_y', right_on='Car Brand', how='inner')"
   ]
  },
  {
   "cell_type": "code",
   "execution_count": null,
   "id": "69e2c0c3-dfab-444d-9233-73a11e5211f9",
   "metadata": {},
   "outputs": [],
   "source": [
    "data"
   ]
  },
  {
   "cell_type": "code",
   "execution_count": null,
   "id": "a8ada489-b85c-461f-8909-d71ddd6983f9",
   "metadata": {},
   "outputs": [],
   "source": [
    "MLENV, model = MCL.Create_Model(data,'AnyPaymentReceived','lightgbm',['Debt_id','Registration','BatchID'])"
   ]
  },
  {
   "cell_type": "code",
   "execution_count": null,
   "id": "0e58b500-67c3-42d9-91dd-d138aee97adc",
   "metadata": {},
   "outputs": [],
   "source": [
    "MET.Model_Generate_Shap_Diagrams(model)"
   ]
  },
  {
   "cell_type": "code",
   "execution_count": null,
   "id": "74832923-09cc-49cc-b4bc-c2fe76a57eca",
   "metadata": {},
   "outputs": [],
   "source": [
    "model = tune_model(model, optimize='Precision')"
   ]
  },
  {
   "cell_type": "code",
   "execution_count": null,
   "id": "24aab19e-b4a6-45ad-be73-e351080ab96f",
   "metadata": {},
   "outputs": [],
   "source": [
    "model = calibrate_model(model)"
   ]
  },
  {
   "cell_type": "code",
   "execution_count": null,
   "id": "76dabd75-e408-41fc-aadd-7218cb57fc68",
   "metadata": {},
   "outputs": [],
   "source": [
    "model = finalize_model(model)"
   ]
  },
  {
   "cell_type": "code",
   "execution_count": null,
   "id": "78c6859b-f211-4499-8591-85bf50b7875b",
   "metadata": {},
   "outputs": [],
   "source": [
    "dataTest = MMPL.DRP_Agena_Ingestion_Model_Fetch_Data(segment='live')"
   ]
  },
  {
   "cell_type": "code",
   "execution_count": null,
   "id": "8ff305d3-09a3-4aa8-b83b-ec2f0e43a5bd",
   "metadata": {},
   "outputs": [],
   "source": [
    "dataTest, featuresTest, targetTest  = MMPL.DRP_Agena_Ingestion_Model_Preprocess(dataTest)"
   ]
  },
  {
   "cell_type": "markdown",
   "id": "399ca460-183e-43ff-aa97-ec238de2ff2c",
   "metadata": {},
   "source": [
    "MODEL INTERPRETATION DASHBOARD:"
   ]
  },
  {
   "cell_type": "markdown",
   "id": "ef8769b0-fe82-460e-91e5-52d3c66e676f",
   "metadata": {
    "scrolled": true
   },
   "source": [
    "dashboard(\n",
    "    best,\n",
    "    run_kwargs={\"host\": \"127.0.0.1\"},\n",
    "    display_format= 'external'\n",
    "     )"
   ]
  },
  {
   "cell_type": "markdown",
   "id": "92627ab4-29be-48f9-884c-4809d35d081f",
   "metadata": {},
   "source": [
    "MODEL CALIBRATION:"
   ]
  },
  {
   "cell_type": "code",
   "execution_count": null,
   "id": "a49060e7-5d64-448d-a6ee-d330a38f081e",
   "metadata": {},
   "outputs": [],
   "source": [
    "car_ranking_dim = pd.read_csv('Car_ranking_dim.csv')\n",
    "dataTest = pd.merge(dataTest, car_ranking_dim, left_on='Make_y', right_on='Car Brand', how='inner')"
   ]
  },
  {
   "cell_type": "code",
   "execution_count": null,
   "id": "afec320a-e7ef-4626-9afc-0207292f2133",
   "metadata": {},
   "outputs": [],
   "source": [
    "probability_threshold = 0.85\n",
    "percentile_cutoff = 0.85    \n",
    "predictions = predict_model(model, data=dataTest,probability_threshold=probability_threshold)\n",
    "predictions = predictions[predictions['prediction_label']==1\n",
    "\n",
    "predictions = predictions.sort_values('prediction_score', ascending=False)\n",
    "cutoff_index = int(len(predictions) * percentile_cutoff)\n",
    "subset_predictions = predictions.iloc[:cutoff_index]\n",
    "\n",
    "subset_predictions.to_csv('your_filtered_predictions.csv', index=False)\n",
    "pd.set_option('display.max_rows',1000)"
   ]
  },
  {
   "cell_type": "code",
   "execution_count": null,
   "id": "7b2460f8-9475-4a9b-8c58-1835b27de56a",
   "metadata": {},
   "outputs": [],
   "source": [
    "    results = subset_predictions\n",
    "    predicted_ones = results[results['prediction_label'] == 1]\n",
    "    TP = (predicted_ones['AnyPaymentReceived'] == 1).sum()\n",
    "    FP = (predicted_ones['AnyPaymentReceived'] == 0).sum()\n",
    "    precision = TP / (TP + FP) if (TP + FP) > 0 else 0\n",
    "    print(f'Precision: {precision:.2f}| Total Call Predictions (1): {len(predicted_ones)}| Correct Predictions: {TP}| Incorrect: {len(predicted_ones)-TP}')"
   ]
  },
  {
   "cell_type": "code",
   "execution_count": null,
   "id": "f9e726a5-a256-4938-89fb-97e051dbc06d",
   "metadata": {
    "scrolled": true
   },
   "outputs": [],
   "source": [
    "results[results['Offense_Count']<10].head(100)"
   ]
  },
  {
   "cell_type": "code",
   "execution_count": null,
   "id": "8a5740f2-910a-4dca-822b-b68bcee5012c",
   "metadata": {},
   "outputs": [],
   "source": [
    "results[results.Make_y =='SEAT']"
   ]
  },
  {
   "cell_type": "code",
   "execution_count": null,
   "id": "96a1588a-c078-46ed-ba1e-6b1873328f3e",
   "metadata": {},
   "outputs": [],
   "source": [
    "import pandas as pd\n",
    "import matplotlib.pyplot as plt\n",
    "import seaborn as sns\n",
    "\n",
    "sns.set(style=\"whitegrid\")\n",
    "\n",
    "plt.figure(figsize=(20, 10))  \n",
    "sns.histplot(sept['Price Point']) \n",
    "\n",
    "plt.title('Distribution of Data')\n",
    "plt.xlabel('Value')\n",
    "plt.ylabel('Frequency')\n",
    "\n",
    "plt.show()"
   ]
  },
  {
   "cell_type": "code",
   "execution_count": null,
   "id": "b8ab1a3f-0d8f-48b1-b026-7613ed9d5819",
   "metadata": {},
   "outputs": [],
   "source": []
  }
 ],
 "metadata": {
  "kernelspec": {
   "display_name": "Python 3 (ipykernel)",
   "language": "python",
   "name": "python3"
  },
  "language_info": {
   "codemirror_mode": {
    "name": "ipython",
    "version": 3
   },
   "file_extension": ".py",
   "mimetype": "text/x-python",
   "name": "python",
   "nbconvert_exporter": "python",
   "pygments_lexer": "ipython3",
   "version": "3.11.5"
  }
 },
 "nbformat": 4,
 "nbformat_minor": 5
}
